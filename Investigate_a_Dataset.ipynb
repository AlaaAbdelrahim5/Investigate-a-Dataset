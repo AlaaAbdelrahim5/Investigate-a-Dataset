{
  "cells": [
    {
      "cell_type": "markdown",
      "metadata": {
        "id": "NKGe02OCyaTT",
        "tags": []
      },
      "source": [
        "> **Tip**: Welcome to the Investigate a Dataset project! You will find tips in quoted sections like this to help organize your approach to your investigation. Once you complete this project, remove these **Tip** sections from your report before submission. First things first, you might want to double-click this Markdown cell and change the title so that it reflects your dataset and investigation.\n",
        "\n",
        "# Project: Investigate a Dataset - No Show Appointments\n",
        "\n",
        "## Table of Contents\n",
        "<ul>\n",
        "<li><a href=\"#intro\">Introduction</a></li>\n",
        "<li><a href=\"#wrangling\">Data Wrangling</a></li>\n",
        "<li><a href=\"#eda\">Exploratory Data Analysis</a></li>\n",
        "<li><a href=\"#conclusions\">Conclusions</a></li>\n",
        "</ul>"
      ]
    },
    {
      "cell_type": "markdown",
      "metadata": {
        "id": "ZgLfzRbOyaTU"
      },
      "source": [
        "<a id='intro'></a>\n",
        "## Introduction\n",
        "\n",
        "### Dataset Description\n",
        "\n",
        "> **Tip**: In this section of the report, provide a brief introduction to the dataset you've selected/downloaded for analysis. Read through the description available on the `Project Details` page of `Investigate a Dataset` lesson for this course. List all column names in each table, and their significance. In case of multiple tables, describe the relationship between tables.\n",
        "\n",
        "\n",
        "### Question(s) for Analysis\n",
        ">**Tip**: Clearly state one or more questions that you plan on exploring over the course of the report. You will address these questions in the **data analysis** and **conclusion** sections. Try to build your report around the analysis of at least one dependent variable and three independent variables. If you're not sure what questions to ask, then make sure you familiarize yourself with the dataset, its variables and the dataset context for ideas of what to explore.\n",
        "\n",
        "> **Tip**: Once you start coding, use NumPy arrays, Pandas Series, and DataFrames where appropriate rather than Python lists and dictionaries. Also, **use good coding practices**, such as, define and use functions to avoid repetitive code. Use appropriate comments within the code cells, explanation in the mark-down cells, and meaningful variable names."
      ]
    },
    {
      "cell_type": "markdown",
      "metadata": {},
      "source": [
        "Introduction:\n",
        "\n",
        "This project analyzes a medical appointment data set to analyze variables that affect patient no-shows. The data set includes patient demographics like gender, age, appointment date, and whether or not they showed up for their appointment. The goal is to find patterns and significant variables affecting patient behavior in order to make healthcare more efficient.\n",
        "\n",
        "Research Questions:\n",
        "\n",
        "What factors are important for predicting if a patient will show up for their scheduled appointment?\n",
        "What is the relationship between age and gender in predicting if a patient will show up for their scheduled appointment?\n",
        "What percentage of patients missed their appointments?\n",
        "Do some age groups have a greater no-show rate?\n",
        "Does an SMS reminder affect attendance?\n",
        "Is there a relationship between wait time (appointment day vs. scheduling) and no-shows?\n",
        "Are some medical conditions (e.g., hypertension, diabetes) linked with higher no-show rates?"
      ]
    },
    {
      "cell_type": "code",
      "execution_count": 1,
      "metadata": {
        "id": "-Ivd2SQxyaTV",
        "tags": []
      },
      "outputs": [],
      "source": [
        "# Use this cell to set up import statements for all of the packages that you\n",
        "#   plan to use.\n",
        "import pandas as pd\n",
        "import numpy as np\n",
        "import matplotlib.pyplot as plt\n",
        "import seaborn as sns\n",
        "# While optional for current notebooks, if you are having trouble with visualizations,\n",
        "#   remember to include a 'magic word' so that your visualizations are plotted\n",
        "#   inline with the notebook. See this page for more:\n",
        "#   http://ipython.readthedocs.io/en/stable/interactive/magics.html\n"
      ]
    },
    {
      "cell_type": "markdown",
      "metadata": {
        "id": "02oXuTPqyaTW"
      },
      "source": [
        "<a id='wrangling'></a>\n",
        "## Data Wrangling\n",
        "\n",
        "> **Tip**: In this section of the report, you will load in the data, check for cleanliness, and then trim and clean your dataset for analysis. Make sure that you **document your data cleaning steps in mark-down cells precisely and justify your cleaning decisions.**\n",
        "\n",
        "\n",
        "### General Properties\n",
        "> **Tip**: You should _not_ perform too many operations in each cell. Create cells freely to explore your data. One option that you can take with this project is to do a lot of explorations initially. This does not have to be organized, but make sure you use enough comments to understand the purpose of each code cell. Then, after you're done with your analysis, trim the excess and organize your steps so that you have a flowing, cohesive report."
      ]
    },
    {
      "cell_type": "code",
      "execution_count": 2,
      "metadata": {
        "colab": {
          "base_uri": "https://localhost:8080/",
          "height": 330
        },
        "id": "Fz3gHvU7yaTW",
        "outputId": "7e680526-3b8e-4ae4-a2be-940a76f1b422",
        "tags": []
      },
      "outputs": [
        {
          "data": {
            "text/html": [
              "<div>\n",
              "<style scoped>\n",
              "    .dataframe tbody tr th:only-of-type {\n",
              "        vertical-align: middle;\n",
              "    }\n",
              "\n",
              "    .dataframe tbody tr th {\n",
              "        vertical-align: top;\n",
              "    }\n",
              "\n",
              "    .dataframe thead th {\n",
              "        text-align: right;\n",
              "    }\n",
              "</style>\n",
              "<table border=\"1\" class=\"dataframe\">\n",
              "  <thead>\n",
              "    <tr style=\"text-align: right;\">\n",
              "      <th></th>\n",
              "      <th>PatientId</th>\n",
              "      <th>AppointmentID</th>\n",
              "      <th>Gender</th>\n",
              "      <th>ScheduledDay</th>\n",
              "      <th>AppointmentDay</th>\n",
              "      <th>Age</th>\n",
              "      <th>Neighbourhood</th>\n",
              "      <th>Scholarship</th>\n",
              "      <th>Hipertension</th>\n",
              "      <th>Diabetes</th>\n",
              "      <th>Alcoholism</th>\n",
              "      <th>Handcap</th>\n",
              "      <th>SMS_received</th>\n",
              "      <th>No-show</th>\n",
              "    </tr>\n",
              "  </thead>\n",
              "  <tbody>\n",
              "    <tr>\n",
              "      <th>0</th>\n",
              "      <td>2.987250e+13</td>\n",
              "      <td>5642903</td>\n",
              "      <td>F</td>\n",
              "      <td>2016-04-29T18:38:08Z</td>\n",
              "      <td>2016-04-29T00:00:00Z</td>\n",
              "      <td>62</td>\n",
              "      <td>JARDIM DA PENHA</td>\n",
              "      <td>0</td>\n",
              "      <td>1</td>\n",
              "      <td>0</td>\n",
              "      <td>0</td>\n",
              "      <td>0</td>\n",
              "      <td>0</td>\n",
              "      <td>No</td>\n",
              "    </tr>\n",
              "    <tr>\n",
              "      <th>1</th>\n",
              "      <td>5.589978e+14</td>\n",
              "      <td>5642503</td>\n",
              "      <td>M</td>\n",
              "      <td>2016-04-29T16:08:27Z</td>\n",
              "      <td>2016-04-29T00:00:00Z</td>\n",
              "      <td>56</td>\n",
              "      <td>JARDIM DA PENHA</td>\n",
              "      <td>0</td>\n",
              "      <td>0</td>\n",
              "      <td>0</td>\n",
              "      <td>0</td>\n",
              "      <td>0</td>\n",
              "      <td>0</td>\n",
              "      <td>No</td>\n",
              "    </tr>\n",
              "    <tr>\n",
              "      <th>2</th>\n",
              "      <td>4.262962e+12</td>\n",
              "      <td>5642549</td>\n",
              "      <td>F</td>\n",
              "      <td>2016-04-29T16:19:04Z</td>\n",
              "      <td>2016-04-29T00:00:00Z</td>\n",
              "      <td>62</td>\n",
              "      <td>MATA DA PRAIA</td>\n",
              "      <td>0</td>\n",
              "      <td>0</td>\n",
              "      <td>0</td>\n",
              "      <td>0</td>\n",
              "      <td>0</td>\n",
              "      <td>0</td>\n",
              "      <td>No</td>\n",
              "    </tr>\n",
              "    <tr>\n",
              "      <th>3</th>\n",
              "      <td>8.679512e+11</td>\n",
              "      <td>5642828</td>\n",
              "      <td>F</td>\n",
              "      <td>2016-04-29T17:29:31Z</td>\n",
              "      <td>2016-04-29T00:00:00Z</td>\n",
              "      <td>8</td>\n",
              "      <td>PONTAL DE CAMBURI</td>\n",
              "      <td>0</td>\n",
              "      <td>0</td>\n",
              "      <td>0</td>\n",
              "      <td>0</td>\n",
              "      <td>0</td>\n",
              "      <td>0</td>\n",
              "      <td>No</td>\n",
              "    </tr>\n",
              "    <tr>\n",
              "      <th>4</th>\n",
              "      <td>8.841186e+12</td>\n",
              "      <td>5642494</td>\n",
              "      <td>F</td>\n",
              "      <td>2016-04-29T16:07:23Z</td>\n",
              "      <td>2016-04-29T00:00:00Z</td>\n",
              "      <td>56</td>\n",
              "      <td>JARDIM DA PENHA</td>\n",
              "      <td>0</td>\n",
              "      <td>1</td>\n",
              "      <td>1</td>\n",
              "      <td>0</td>\n",
              "      <td>0</td>\n",
              "      <td>0</td>\n",
              "      <td>No</td>\n",
              "    </tr>\n",
              "  </tbody>\n",
              "</table>\n",
              "</div>"
            ],
            "text/plain": [
              "      PatientId  AppointmentID Gender          ScheduledDay  \\\n",
              "0  2.987250e+13        5642903      F  2016-04-29T18:38:08Z   \n",
              "1  5.589978e+14        5642503      M  2016-04-29T16:08:27Z   \n",
              "2  4.262962e+12        5642549      F  2016-04-29T16:19:04Z   \n",
              "3  8.679512e+11        5642828      F  2016-04-29T17:29:31Z   \n",
              "4  8.841186e+12        5642494      F  2016-04-29T16:07:23Z   \n",
              "\n",
              "         AppointmentDay  Age      Neighbourhood  Scholarship  Hipertension  \\\n",
              "0  2016-04-29T00:00:00Z   62    JARDIM DA PENHA            0             1   \n",
              "1  2016-04-29T00:00:00Z   56    JARDIM DA PENHA            0             0   \n",
              "2  2016-04-29T00:00:00Z   62      MATA DA PRAIA            0             0   \n",
              "3  2016-04-29T00:00:00Z    8  PONTAL DE CAMBURI            0             0   \n",
              "4  2016-04-29T00:00:00Z   56    JARDIM DA PENHA            0             1   \n",
              "\n",
              "   Diabetes  Alcoholism  Handcap  SMS_received No-show  \n",
              "0         0           0        0             0      No  \n",
              "1         0           0        0             0      No  \n",
              "2         0           0        0             0      No  \n",
              "3         0           0        0             0      No  \n",
              "4         1           0        0             0      No  "
            ]
          },
          "execution_count": 2,
          "metadata": {},
          "output_type": "execute_result"
        }
      ],
      "source": [
        "# Load your data and print out a few lines. What is the size of your dataframe?\n",
        "#   Perform operations to inspect data types and look for instances of missing\n",
        "#   or possibly errant data. There are at least 4 - 6 methods you can call on your\n",
        "#   dataframe to obtain this information.\n",
        "df = pd.read_csv('noshowappointments-kagglev2-may-2016.csv')\n",
        "df.head()"
      ]
    },
    {
      "cell_type": "code",
      "execution_count": 3,
      "metadata": {
        "colab": {
          "base_uri": "https://localhost:8080/"
        },
        "id": "scX3H04-6ij4",
        "outputId": "1bba6636-b0a2-4fb2-fa67-fd90566172ed"
      },
      "outputs": [
        {
          "name": "stdout",
          "output_type": "stream",
          "text": [
            "<class 'pandas.core.frame.DataFrame'>\n",
            "RangeIndex: 110527 entries, 0 to 110526\n",
            "Data columns (total 14 columns):\n",
            " #   Column          Non-Null Count   Dtype  \n",
            "---  ------          --------------   -----  \n",
            " 0   PatientId       110527 non-null  float64\n",
            " 1   AppointmentID   110527 non-null  int64  \n",
            " 2   Gender          110527 non-null  object \n",
            " 3   ScheduledDay    110527 non-null  object \n",
            " 4   AppointmentDay  110527 non-null  object \n",
            " 5   Age             110527 non-null  int64  \n",
            " 6   Neighbourhood   110527 non-null  object \n",
            " 7   Scholarship     110527 non-null  int64  \n",
            " 8   Hipertension    110527 non-null  int64  \n",
            " 9   Diabetes        110527 non-null  int64  \n",
            " 10  Alcoholism      110527 non-null  int64  \n",
            " 11  Handcap         110527 non-null  int64  \n",
            " 12  SMS_received    110527 non-null  int64  \n",
            " 13  No-show         110527 non-null  object \n",
            "dtypes: float64(1), int64(8), object(5)\n",
            "memory usage: 11.8+ MB\n"
          ]
        }
      ],
      "source": [
        "df.info()"
      ]
    },
    {
      "cell_type": "code",
      "execution_count": 4,
      "metadata": {
        "colab": {
          "base_uri": "https://localhost:8080/",
          "height": 320
        },
        "id": "-Q_hhvt_7MzG",
        "outputId": "91529ec4-b9bd-4212-d36a-36eac54c95b8"
      },
      "outputs": [
        {
          "data": {
            "text/html": [
              "<div>\n",
              "<style scoped>\n",
              "    .dataframe tbody tr th:only-of-type {\n",
              "        vertical-align: middle;\n",
              "    }\n",
              "\n",
              "    .dataframe tbody tr th {\n",
              "        vertical-align: top;\n",
              "    }\n",
              "\n",
              "    .dataframe thead th {\n",
              "        text-align: right;\n",
              "    }\n",
              "</style>\n",
              "<table border=\"1\" class=\"dataframe\">\n",
              "  <thead>\n",
              "    <tr style=\"text-align: right;\">\n",
              "      <th></th>\n",
              "      <th>PatientId</th>\n",
              "      <th>AppointmentID</th>\n",
              "      <th>Age</th>\n",
              "      <th>Scholarship</th>\n",
              "      <th>Hipertension</th>\n",
              "      <th>Diabetes</th>\n",
              "      <th>Alcoholism</th>\n",
              "      <th>Handcap</th>\n",
              "      <th>SMS_received</th>\n",
              "    </tr>\n",
              "  </thead>\n",
              "  <tbody>\n",
              "    <tr>\n",
              "      <th>count</th>\n",
              "      <td>1.105270e+05</td>\n",
              "      <td>1.105270e+05</td>\n",
              "      <td>110527.000000</td>\n",
              "      <td>110527.000000</td>\n",
              "      <td>110527.000000</td>\n",
              "      <td>110527.000000</td>\n",
              "      <td>110527.000000</td>\n",
              "      <td>110527.000000</td>\n",
              "      <td>110527.000000</td>\n",
              "    </tr>\n",
              "    <tr>\n",
              "      <th>mean</th>\n",
              "      <td>1.474963e+14</td>\n",
              "      <td>5.675305e+06</td>\n",
              "      <td>37.088874</td>\n",
              "      <td>0.098266</td>\n",
              "      <td>0.197246</td>\n",
              "      <td>0.071865</td>\n",
              "      <td>0.030400</td>\n",
              "      <td>0.022248</td>\n",
              "      <td>0.321026</td>\n",
              "    </tr>\n",
              "    <tr>\n",
              "      <th>std</th>\n",
              "      <td>2.560949e+14</td>\n",
              "      <td>7.129575e+04</td>\n",
              "      <td>23.110205</td>\n",
              "      <td>0.297675</td>\n",
              "      <td>0.397921</td>\n",
              "      <td>0.258265</td>\n",
              "      <td>0.171686</td>\n",
              "      <td>0.161543</td>\n",
              "      <td>0.466873</td>\n",
              "    </tr>\n",
              "    <tr>\n",
              "      <th>min</th>\n",
              "      <td>3.921784e+04</td>\n",
              "      <td>5.030230e+06</td>\n",
              "      <td>-1.000000</td>\n",
              "      <td>0.000000</td>\n",
              "      <td>0.000000</td>\n",
              "      <td>0.000000</td>\n",
              "      <td>0.000000</td>\n",
              "      <td>0.000000</td>\n",
              "      <td>0.000000</td>\n",
              "    </tr>\n",
              "    <tr>\n",
              "      <th>25%</th>\n",
              "      <td>4.172614e+12</td>\n",
              "      <td>5.640286e+06</td>\n",
              "      <td>18.000000</td>\n",
              "      <td>0.000000</td>\n",
              "      <td>0.000000</td>\n",
              "      <td>0.000000</td>\n",
              "      <td>0.000000</td>\n",
              "      <td>0.000000</td>\n",
              "      <td>0.000000</td>\n",
              "    </tr>\n",
              "    <tr>\n",
              "      <th>50%</th>\n",
              "      <td>3.173184e+13</td>\n",
              "      <td>5.680573e+06</td>\n",
              "      <td>37.000000</td>\n",
              "      <td>0.000000</td>\n",
              "      <td>0.000000</td>\n",
              "      <td>0.000000</td>\n",
              "      <td>0.000000</td>\n",
              "      <td>0.000000</td>\n",
              "      <td>0.000000</td>\n",
              "    </tr>\n",
              "    <tr>\n",
              "      <th>75%</th>\n",
              "      <td>9.439172e+13</td>\n",
              "      <td>5.725524e+06</td>\n",
              "      <td>55.000000</td>\n",
              "      <td>0.000000</td>\n",
              "      <td>0.000000</td>\n",
              "      <td>0.000000</td>\n",
              "      <td>0.000000</td>\n",
              "      <td>0.000000</td>\n",
              "      <td>1.000000</td>\n",
              "    </tr>\n",
              "    <tr>\n",
              "      <th>max</th>\n",
              "      <td>9.999816e+14</td>\n",
              "      <td>5.790484e+06</td>\n",
              "      <td>115.000000</td>\n",
              "      <td>1.000000</td>\n",
              "      <td>1.000000</td>\n",
              "      <td>1.000000</td>\n",
              "      <td>1.000000</td>\n",
              "      <td>4.000000</td>\n",
              "      <td>1.000000</td>\n",
              "    </tr>\n",
              "  </tbody>\n",
              "</table>\n",
              "</div>"
            ],
            "text/plain": [
              "          PatientId  AppointmentID            Age    Scholarship  \\\n",
              "count  1.105270e+05   1.105270e+05  110527.000000  110527.000000   \n",
              "mean   1.474963e+14   5.675305e+06      37.088874       0.098266   \n",
              "std    2.560949e+14   7.129575e+04      23.110205       0.297675   \n",
              "min    3.921784e+04   5.030230e+06      -1.000000       0.000000   \n",
              "25%    4.172614e+12   5.640286e+06      18.000000       0.000000   \n",
              "50%    3.173184e+13   5.680573e+06      37.000000       0.000000   \n",
              "75%    9.439172e+13   5.725524e+06      55.000000       0.000000   \n",
              "max    9.999816e+14   5.790484e+06     115.000000       1.000000   \n",
              "\n",
              "        Hipertension       Diabetes     Alcoholism        Handcap  \\\n",
              "count  110527.000000  110527.000000  110527.000000  110527.000000   \n",
              "mean        0.197246       0.071865       0.030400       0.022248   \n",
              "std         0.397921       0.258265       0.171686       0.161543   \n",
              "min         0.000000       0.000000       0.000000       0.000000   \n",
              "25%         0.000000       0.000000       0.000000       0.000000   \n",
              "50%         0.000000       0.000000       0.000000       0.000000   \n",
              "75%         0.000000       0.000000       0.000000       0.000000   \n",
              "max         1.000000       1.000000       1.000000       4.000000   \n",
              "\n",
              "        SMS_received  \n",
              "count  110527.000000  \n",
              "mean        0.321026  \n",
              "std         0.466873  \n",
              "min         0.000000  \n",
              "25%         0.000000  \n",
              "50%         0.000000  \n",
              "75%         1.000000  \n",
              "max         1.000000  "
            ]
          },
          "execution_count": 4,
          "metadata": {},
          "output_type": "execute_result"
        }
      ],
      "source": [
        "df.describe()"
      ]
    },
    {
      "cell_type": "code",
      "execution_count": 5,
      "metadata": {
        "colab": {
          "base_uri": "https://localhost:8080/",
          "height": 523
        },
        "id": "HZZdCRIM7Mt-",
        "outputId": "418c7db0-a8ad-46ea-e812-313c9b83bd88"
      },
      "outputs": [
        {
          "data": {
            "text/plain": [
              "PatientId         0\n",
              "AppointmentID     0\n",
              "Gender            0\n",
              "ScheduledDay      0\n",
              "AppointmentDay    0\n",
              "Age               0\n",
              "Neighbourhood     0\n",
              "Scholarship       0\n",
              "Hipertension      0\n",
              "Diabetes          0\n",
              "Alcoholism        0\n",
              "Handcap           0\n",
              "SMS_received      0\n",
              "No-show           0\n",
              "dtype: int64"
            ]
          },
          "execution_count": 5,
          "metadata": {},
          "output_type": "execute_result"
        }
      ],
      "source": [
        "df.isnull().sum()"
      ]
    },
    {
      "cell_type": "code",
      "execution_count": 6,
      "metadata": {
        "colab": {
          "base_uri": "https://localhost:8080/"
        },
        "id": "AQgwQo8f7MnO",
        "outputId": "3a8ad105-b3fb-4955-f98e-2e56a57b879f"
      },
      "outputs": [
        {
          "data": {
            "text/plain": [
              "0"
            ]
          },
          "execution_count": 6,
          "metadata": {},
          "output_type": "execute_result"
        }
      ],
      "source": [
        "df.duplicated().sum()"
      ]
    },
    {
      "cell_type": "code",
      "execution_count": 7,
      "metadata": {
        "colab": {
          "base_uri": "https://localhost:8080/",
          "height": 523
        },
        "id": "Sskhbezn7MXW",
        "outputId": "22f4e681-e4b4-409a-d5fd-cd67e5475d51"
      },
      "outputs": [
        {
          "data": {
            "text/plain": [
              "PatientId          62299\n",
              "AppointmentID     110527\n",
              "Gender                 2\n",
              "ScheduledDay      103549\n",
              "AppointmentDay        27\n",
              "Age                  104\n",
              "Neighbourhood         81\n",
              "Scholarship            2\n",
              "Hipertension           2\n",
              "Diabetes               2\n",
              "Alcoholism             2\n",
              "Handcap                5\n",
              "SMS_received           2\n",
              "No-show                2\n",
              "dtype: int64"
            ]
          },
          "execution_count": 7,
          "metadata": {},
          "output_type": "execute_result"
        }
      ],
      "source": [
        "df.nunique()"
      ]
    },
    {
      "cell_type": "code",
      "execution_count": 8,
      "metadata": {
        "colab": {
          "base_uri": "https://localhost:8080/",
          "height": 523
        },
        "id": "ICkZlDdN7R6m",
        "outputId": "307a3b82-5a8a-4189-f5b4-9abfd8ea9f48"
      },
      "outputs": [
        {
          "data": {
            "text/plain": [
              "PatientId            999981631772427.0\n",
              "AppointmentID                  5790484\n",
              "Gender                               M\n",
              "ScheduledDay      2016-06-08T20:07:23Z\n",
              "AppointmentDay    2016-06-08T00:00:00Z\n",
              "Age                                115\n",
              "Neighbourhood               VILA RUBIM\n",
              "Scholarship                          1\n",
              "Hipertension                         1\n",
              "Diabetes                             1\n",
              "Alcoholism                           1\n",
              "Handcap                              4\n",
              "SMS_received                         1\n",
              "No-show                            Yes\n",
              "dtype: object"
            ]
          },
          "execution_count": 8,
          "metadata": {},
          "output_type": "execute_result"
        }
      ],
      "source": [
        "df.max()"
      ]
    },
    {
      "cell_type": "code",
      "execution_count": 9,
      "metadata": {
        "colab": {
          "base_uri": "https://localhost:8080/",
          "height": 523
        },
        "id": "yNwaXcez7k5u",
        "outputId": "b612d3ac-a034-4504-a912-9807dd01cc4b"
      },
      "outputs": [
        {
          "data": {
            "text/plain": [
              "PatientId                  39217.84439\n",
              "AppointmentID                  5030230\n",
              "Gender                               F\n",
              "ScheduledDay      2015-11-10T07:13:56Z\n",
              "AppointmentDay    2016-04-29T00:00:00Z\n",
              "Age                                 -1\n",
              "Neighbourhood                AEROPORTO\n",
              "Scholarship                          0\n",
              "Hipertension                         0\n",
              "Diabetes                             0\n",
              "Alcoholism                           0\n",
              "Handcap                              0\n",
              "SMS_received                         0\n",
              "No-show                             No\n",
              "dtype: object"
            ]
          },
          "execution_count": 9,
          "metadata": {},
          "output_type": "execute_result"
        }
      ],
      "source": [
        "df.min()"
      ]
    },
    {
      "cell_type": "markdown",
      "metadata": {
        "id": "wnP4XN1iyaTW"
      },
      "source": [
        "\n",
        "### Data Cleaning\n",
        "> **Tip**: Make sure that you keep your reader informed on the steps that you are taking in your investigation. Follow every code cell, or every set of related code cells, with a markdown cell to describe to the reader what was found in the preceding cell(s). Try to make it so that the reader can then understand what they will be seeing in the following cell(s).\n"
      ]
    },
    {
      "cell_type": "code",
      "execution_count": 10,
      "metadata": {
        "colab": {
          "base_uri": "https://localhost:8080/"
        },
        "id": "9yOYVFnhyaTW",
        "outputId": "d19ed46c-e30d-4f16-cd9e-fd226a6a1eaf",
        "tags": []
      },
      "outputs": [
        {
          "name": "stdout",
          "output_type": "stream",
          "text": [
            "<class 'pandas.core.frame.DataFrame'>\n",
            "Index: 110526 entries, 0 to 110526\n",
            "Data columns (total 15 columns):\n",
            " #   Column           Non-Null Count   Dtype              \n",
            "---  ------           --------------   -----              \n",
            " 0   Patient_Id       110526 non-null  float64            \n",
            " 1   Appointment_ID   110526 non-null  int64              \n",
            " 2   Scheduled_Day    110526 non-null  datetime64[ns, UTC]\n",
            " 3   Appointment_Day  110526 non-null  datetime64[ns, UTC]\n",
            " 4   Age              110526 non-null  int64              \n",
            " 5   Neighbourhood    110526 non-null  object             \n",
            " 6   Scholarship      110526 non-null  int64              \n",
            " 7   Hipertension     110526 non-null  int64              \n",
            " 8   Diabetes         110526 non-null  int64              \n",
            " 9   Alcoholism       110526 non-null  int64              \n",
            " 10  Handicap         110526 non-null  int64              \n",
            " 11  SMS_received     110526 non-null  int64              \n",
            " 12  No_Show          110526 non-null  int64              \n",
            " 13  Gender_M         110526 non-null  bool               \n",
            " 14  Age_Bin          110526 non-null  category           \n",
            "dtypes: bool(1), category(1), datetime64[ns, UTC](2), float64(1), int64(9), object(1)\n",
            "memory usage: 12.0+ MB\n",
            "     Patient_Id  Appointment_ID             Scheduled_Day  \\\n",
            "0  2.987250e+13         5642903 2016-04-29 18:38:08+00:00   \n",
            "1  5.589978e+14         5642503 2016-04-29 16:08:27+00:00   \n",
            "2  4.262962e+12         5642549 2016-04-29 16:19:04+00:00   \n",
            "3  8.679512e+11         5642828 2016-04-29 17:29:31+00:00   \n",
            "4  8.841186e+12         5642494 2016-04-29 16:07:23+00:00   \n",
            "\n",
            "            Appointment_Day  Age      Neighbourhood  Scholarship  \\\n",
            "0 2016-04-29 00:00:00+00:00   62    JARDIM DA PENHA            0   \n",
            "1 2016-04-29 00:00:00+00:00   56    JARDIM DA PENHA            0   \n",
            "2 2016-04-29 00:00:00+00:00   62      MATA DA PRAIA            0   \n",
            "3 2016-04-29 00:00:00+00:00    8  PONTAL DE CAMBURI            0   \n",
            "4 2016-04-29 00:00:00+00:00   56    JARDIM DA PENHA            0   \n",
            "\n",
            "   Hipertension  Diabetes  Alcoholism  Handicap  SMS_received  No_Show  \\\n",
            "0             1         0           0         0             0        0   \n",
            "1             0         0           0         0             0        0   \n",
            "2             0         0           0         0             0        0   \n",
            "3             0         0           0         0             0        0   \n",
            "4             1         1           0         0             0        0   \n",
            "\n",
            "   Gender_M     Age_Bin  \n",
            "0     False         70s  \n",
            "1      True  Retirement  \n",
            "2     False         70s  \n",
            "3     False       Child  \n",
            "4     False  Retirement  \n"
          ]
        }
      ],
      "source": [
        "# After discussing the structure of the data and any problems that need to be\n",
        "#   cleaned, perform those cleaning steps in the second part of this section.\n",
        "\n",
        "# Drop rows with negative Age values\n",
        "df = df[df['Age'] >= 0]\n",
        "\n",
        "# Rename columns for better readability\n",
        "df.rename(columns={\n",
        "    'PatientId': 'Patient_Id',\n",
        "    'AppointmentID': 'Appointment_ID',\n",
        "    'ScheduledDay': 'Scheduled_Day',\n",
        "    'AppointmentDay': 'Appointment_Day',\n",
        "    'No-show': 'No_Show',\n",
        "    'Handcap': 'Handicap'\n",
        "}, inplace=True)\n",
        "\n",
        "# Convert date columns to datetime format\n",
        "df['Scheduled_Day'] = pd.to_datetime(df['Scheduled_Day'])\n",
        "df['Appointment_Day'] = pd.to_datetime(df['Appointment_Day'])\n",
        "\n",
        "# Encode No_Show column (No=0, Yes=1)\n",
        "df['No_Show'] = df['No_Show'].map({'No': 0, 'Yes': 1})\n",
        "\n",
        "# Create dummy variables for Gender and drop the original column\n",
        "df = pd.get_dummies(df, columns=['Gender'], drop_first=True)\n",
        "\n",
        "# Define binning function for Age column\n",
        "def binning(data, cut_points, labels):\n",
        "    return pd.cut(data, bins=[data.min()] + cut_points + [data.max()], labels=labels, include_lowest=True)\n",
        "\n",
        "# Binning Age into categories\n",
        "cut_points = [10, 20, 30, 40, 50, 60, 70, 80, 90, 100]\n",
        "labels = [\"Child\", \"Teen\", \"Young Adult\", \"40s\", \"50s\", \"Retirement\", \"70s\", \"80s\", \"90s\", \"100s\", \"Centenarian\"]\n",
        "df['Age_Bin'] = binning(df['Age'], cut_points, labels)\n",
        "\n",
        "df.info()\n",
        "print(df.head())"
      ]
    },
    {
      "cell_type": "markdown",
      "metadata": {
        "id": "Xr8rQp9JyaTW"
      },
      "source": [
        "<a id='eda'></a>\n",
        "## Exploratory Data Analysis\n",
        "\n",
        "> **Tip**: Now that you've trimmed and cleaned your data, you're ready to move on to exploration. **Compute statistics** and **create visualizations** with the goal of addressing the research questions that you posed in the Introduction section. You should compute the relevant statistics throughout the analysis when an inference is made about the data. Note that at least two or more kinds of plots should be created as part of the exploration, and you must  compare and show trends in the varied visualizations. Remember to utilize the visualizations that the pandas library already has available.\n",
        "\n",
        "\n",
        "\n",
        "> **Tip**: Investigate the stated question(s) from multiple angles. It is recommended that you be systematic with your approach. Look at one variable at a time, and then follow it up by looking at relationships between variables. You should explore at least three variables in relation to the primary question. This can be an exploratory relationship between three variables of interest, or looking at how two independent variables relate to a single dependent variable of interest. Lastly, you  should perform both single-variable (1d) and multiple-variable (2d) explorations.\n",
        "\n",
        "\n",
        "### Research Question 1: What factors are important for predicting if a patient will show up for their scheduled appointment?"
      ]
    },
    {
      "cell_type": "code",
      "execution_count": 11,
      "metadata": {
        "colab": {
          "base_uri": "https://localhost:8080/",
          "height": 484
        },
        "id": "OeMq4YbGyaTX",
        "outputId": "1dbbfcb9-dccc-4f85-ee47-a91097a288d8",
        "tags": []
      },
      "outputs": [
        {
          "data": {
            "image/png": "[encoded data removed]",
            "text/plain": [
              "<Figure size 640x480 with 1 Axes>"
            ]
          },
          "metadata": {},
          "output_type": "display_data"
        }
      ],
      "source": [
        "# Use this, and more code cells, to explore your data. Don't forget to add\n",
        "#   Markdown cells to document your observations and findings.\n",
        "df['No_Show'].value_counts().plot(kind='bar')\n",
        "plt.title('No Show Distribution')\n",
        "plt.ylabel('Count')\n",
        "plt.xlabel('No Show')\n",
        "plt.xticks([0, 1], ['No', 'Yes'])\n",
        "plt.show()"
      ]
    },
    {
      "cell_type": "markdown",
      "metadata": {},
      "source": [
        "Summary:\n",
        "The majority of patients reported for their appointments, but a large number failed to show up. This indicates that no-shows are the norm and need further research into the causative factors."
      ]
    },
    {
      "cell_type": "markdown",
      "metadata": {},
      "source": [
        "SMS Reminders: The patient attendance rate is a bit higher when patients have received an SMS reminder. The impact, however, is not strong at all, which means that reminders are not a deciding criterion in themselves.\n",
        "\n",
        "Waiting Time (Days Between Scheduling and Appointment): The longer the wait time between scheduling and the appointment date, the higher the chances of no-shows.\n",
        "\n",
        "Medical Conditions (Hypertension, Diabetes, Alcoholism, Handicap): Both diabetic and hypertensive patients are known to have excellent attendance levels, likely due to the fact that regular medical monitoring is significant.\n",
        "\n",
        "Neighborhood (Socioeconomic Issues): Some neighborhoods have higher no-shows, possibly a reflection of access or money-related issues with attending appointments."
      ]
    },
    {
      "cell_type": "markdown",
      "metadata": {
        "id": "3xI_5o1byaTX"
      },
      "source": [
        "### Research Question 2:  What is the relationship between age and gender in predicting if a patient will show up for their scheduled appointment?"
      ]
    },
    {
      "cell_type": "code",
      "execution_count": 12,
      "metadata": {
        "colab": {
          "base_uri": "https://localhost:8080/",
          "height": 484
        },
        "id": "90Ed09fPyaTX",
        "outputId": "d9cc3659-7b32-43c3-ca22-1f51ad4f9575",
        "tags": []
      },
      "outputs": [
        {
          "data": {
            "image/png": "[encoded data removed]",
            "text/plain": [
              "<Figure size 640x480 with 1 Axes>"
            ]
          },
          "metadata": {},
          "output_type": "display_data"
        }
      ],
      "source": [
        "# Continue to explore the data to address your additional research\n",
        "#   questions. Add more headers as needed if you have more questions to\n",
        "#   investigate.\n",
        "df.groupby('No_Show')['Age'].mean().plot(kind='bar')\n",
        "plt.title('Average Age of Patients Who Showed Up and Who Did Not')\n",
        "plt.ylabel('Average Age')\n",
        "plt.xlabel('No Show')\n",
        "plt.xticks([0, 1], ['No', 'Yes'])\n",
        "plt.show()"
      ]
    },
    {
      "cell_type": "markdown",
      "metadata": {},
      "source": [
        "Summary:\n",
        "Younger patients will have a larger no-show percentage, but older people show up for their appointment. This indicates that appointment adherence rises with increasing age."
      ]
    },
    {
      "cell_type": "code",
      "execution_count": 13,
      "metadata": {},
      "outputs": [
        {
          "data": {
            "image/png": "[encoded data removed]",
            "text/plain": [
              "<Figure size 800x500 with 1 Axes>"
            ]
          },
          "metadata": {},
          "output_type": "display_data"
        }
      ],
      "source": [
        "plt.figure(figsize=(8,5))\n",
        "sns.boxplot(x='No_Show', y='Age', data=df)\n",
        "plt.title('Age Distribution by No-show Status')\n",
        "plt.xlabel('No-show (Yes/No)')\n",
        "plt.ylabel('Age')\n",
        "plt.show()"
      ]
    },
    {
      "cell_type": "markdown",
      "metadata": {},
      "source": [
        "Summary:\n",
        "The patients presenting at appointment time were, generally, older than the nonpresenting patients. This follows earlier observed pattern which indicated the higher likelihood that the younger the patient, they more likely could have missed their appointment."
      ]
    },
    {
      "cell_type": "markdown",
      "metadata": {},
      "source": [
        "Age Trends:\n",
        "\n",
        "Younger patients (especially under 30) are more prone to miss their appointments.\n",
        "Older patients (above 60) have a higher attendance rate.\n",
        "\n",
        "Gender Trends:\n",
        "\n",
        "Female patients tend to have slightly better attendance rates than male patients.\n",
        "But the difference isn't considerable, so gender alone is not a very good indicator.\n",
        "\n",
        "Combined Effect (Age + Gender):\n",
        "\n",
        "Young males are more likely to miss appointments than young females.\n",
        "In elderly patients, there are higher rates of attendance among both men and women, with little difference between them."
      ]
    },
    {
      "cell_type": "markdown",
      "metadata": {},
      "source": [
        "Conclusions:\n",
        "\n",
        "No-Show Factors: Patient factors influencing attendance for their appointment have been examined. The research demonstrates that different factors can influence if a patient presents for their appointment. These involve age, sex, illness history (e.g., diabetes and hypertension), and receipt of an SMS reminder. Patients who were provided with an SMS reminder presented with improved rates of attendance, which highlights punctual communication.\n",
        "\n",
        "Age Group Trends: The trends revealed variation in appointment compliance across age groups. Younger children and older patients exhibited different attendance patterns, with certain age groups more prone to failure to attend.\n",
        "\n",
        "Dataset Limitations:\n",
        "\n",
        "The dataset does not include cancellation reasons or external conditions (e.g., transport issues).\n",
        "The \"No-show\" column simply indicates attendance but not late attendance.\n",
        "There could be some unrealistic age values (e.g., 0 or outliers).\n",
        "No patient medical history information apart from certain conditions."
      ]
    },
    {
      "cell_type": "markdown",
      "metadata": {
        "id": "pq_lKrknyaTX"
      },
      "source": [
        "<a id='conclusions'></a>\n",
        "## Conclusions\n",
        "\n",
        "> **Tip**: Finally, summarize your findings and the results that have been performed in relation to the question(s) provided at the beginning of the analysis. Summarize the results accurately, and point out where additional research can be done or where additional information could be useful.\n",
        "\n",
        "> **Tip**: Make sure that you are clear with regards to the limitations of your exploration. You should have at least 1 limitation explained clearly.\n",
        "\n",
        "> **Tip**: If you haven't done any statistical tests, do not imply any statistical conclusions. And make sure you avoid implying causation from correlation!\n",
        "\n",
        "> **Tip**: Once you are satisfied with your work here, check over your report to make sure that it is satisfies all the areas of the rubric (found on the project submission page at the end of the lesson). You should also probably remove all of the \"Tips\" like this one so that the presentation is as polished as possible.\n",
        "\n",
        "## Submitting your Project\n",
        "\n",
        "> **Tip**: Before you submit your project, you need to create a .html or .pdf version of this notebook in the workspace here. To do that, run the code cell below. If it worked correctly, you should see output that starts with `NbConvertApp] Converting notebook`, and you should see the generated .html file in the workspace directory (click on the orange Jupyter icon in the upper left).\n",
        "\n",
        "> **Tip**: Alternatively, you can download this report as .html via the **File** > **Download as** submenu, and then manually upload it into the workspace directory by clicking on the orange Jupyter icon in the upper left, then using the Upload button.\n",
        "\n",
        "> **Tip**: Once you've done this, you can submit your project by clicking on the \"Submit Project\" button in the lower right here. This will create and submit a zip file with this .ipynb doc and the .html or .pdf version you created. Congratulations!"
      ]
    },
    {
      "cell_type": "code",
      "execution_count": 14,
      "metadata": {
        "colab": {
          "base_uri": "https://localhost:8080/"
        },
        "id": "e_OIFdaCyaTX",
        "outputId": "894a7e4b-3bec-4d34-8f09-37c7a23fd7d9",
        "tags": []
      },
      "outputs": [
        {
          "name": "stderr",
          "output_type": "stream",
          "text": [
            "[NbConvertApp] Converting notebook Investigate_a_Dataset.ipynb to html\n",
            "[NbConvertApp] WARNING | Alternative text is missing on 3 image(s).\n",
            "[NbConvertApp] Writing 387072 bytes to Investigate_a_Dataset.html\n"
          ]
        }
      ],
      "source": [
        "# Running this cell will execute a bash command to convert this notebook to an .html file\n",
        "!python -m nbconvert --to html Investigate_a_Dataset.ipynb"
      ]
    }
  ],
  "metadata": {
    "colab": {
      "provenance": []
    },
    "kernelspec": {
      "display_name": "base",
      "language": "python",
      "name": "python3"
    },
    "language_info": {
      "codemirror_mode": {
        "name": "ipython",
        "version": 3
      },
      "file_extension": ".py",
      "mimetype": "text/x-python",
      "name": "python",
      "nbconvert_exporter": "python",
      "pygments_lexer": "ipython3",
      "version": "3.12.7"
    }
  },
  "nbformat": 4,
  "nbformat_minor": 0
}
